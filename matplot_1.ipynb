{
  "nbformat": 4,
  "nbformat_minor": 0,
  "metadata": {
    "colab": {
      "name": "matplot_1.ipynb",
      "provenance": [],
      "authorship_tag": "ABX9TyOCzrxoIxfgV28MweEbY+ot",
      "include_colab_link": true
    },
    "kernelspec": {
      "name": "python3",
      "display_name": "Python 3"
    }
  },
  "cells": [
    {
      "cell_type": "markdown",
      "metadata": {
        "id": "view-in-github",
        "colab_type": "text"
      },
      "source": [
        "<a href=\"https://colab.research.google.com/github/Tej-Singh-Rana/Adhocnetworks-Workshop/blob/master/matplot_1.ipynb\" target=\"_parent\"><img src=\"https://colab.research.google.com/assets/colab-badge.svg\" alt=\"Open In Colab\"/></a>"
      ]
    },
    {
      "cell_type": "code",
      "metadata": {
        "id": "QQUMpESboK0x",
        "colab_type": "code",
        "colab": {
          "base_uri": "https://localhost:8080/",
          "height": 296
        },
        "outputId": "8ea337a9-a368-40eb-f52b-db8ce5e205e6"
      },
      "source": [
        "# if matplotlib module not installed in system then first install it.\n",
        "# In jupyter !pip install matplotlib\n",
        "\n",
        "import matplotlib.pyplot as plt\n",
        "import time\n",
        "\n",
        "# another example of data-visualization in cricket\n",
        "\n",
        "players = [\"dhoni\",\"laxman\",\"sachin\",\"rohit\",\"virat\"]\n",
        "scores = [200,160,300,120,230]\n",
        "\n",
        "# now plotting \n",
        "\n",
        "plt.xlabel('players')\n",
        "plt.ylabel('scores')\n",
        "plt.bar(players,scores,label=\"Year 2012 score of Indian Cricket Team\",color=\"blue\")"
      ],
      "execution_count": 1,
      "outputs": [
        {
          "output_type": "execute_result",
          "data": {
            "text/plain": [
              "<BarContainer object of 5 artists>"
            ]
          },
          "metadata": {
            "tags": []
          },
          "execution_count": 1
        },
        {
          "output_type": "display_data",
          "data": {
            "image/png": "[encoded data removed]",
            "text/plain": [
              "<Figure size 432x288 with 1 Axes>"
            ]
          },
          "metadata": {
            "tags": []
          }
        }
      ]
    }
  ]
}